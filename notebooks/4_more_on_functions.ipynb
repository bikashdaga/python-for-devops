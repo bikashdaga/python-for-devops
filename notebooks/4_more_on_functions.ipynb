{
 "cells": [
  {
   "cell_type": "markdown",
   "metadata": {
    "slideshow": {
     "slide_type": "slide"
    }
   },
   "source": [
    "More on Functions\n",
    "==="
   ]
  },
  {
   "cell_type": "markdown",
   "metadata": {
    "slideshow": {
     "slide_type": "fragment"
    }
   },
   "source": [
    "Earlier we learned the most bare-boned versions of functions. In this section we will learn more general concepts about functions, such as how to use functions to return values, and how to pass different kinds of data structures between functions."
   ]
  },
  {
   "cell_type": "markdown",
   "metadata": {
    "slideshow": {
     "slide_type": "slide"
    }
   },
   "source": [
    "<a name='default_values'></a>Default argument values\n",
    "==="
   ]
  },
  {
   "cell_type": "code",
   "execution_count": 2,
   "metadata": {
    "slideshow": {
     "slide_type": "fragment"
    }
   },
   "outputs": [
    {
     "name": "stdout",
     "output_type": "stream",
     "text": [
      "\n",
      " Hello Santosh, hope you are finding this training useful!\n",
      "\n",
      " Hello Sunil, hope you are finding this training useful!\n",
      "\n",
      " Hello Mahi, hope you are finding this training useful!\n"
     ]
    }
   ],
   "source": [
    "def hello_there(name):\n",
    "    print(\"\\n Hello {}, hope you are finding this training useful!\".format(name))\n",
    "    \n",
    "hello_there('Santosh')\n",
    "hello_there('Sunil')\n",
    "hello_there('Mahi')"
   ]
  },
  {
   "cell_type": "code",
   "execution_count": 1,
   "metadata": {},
   "outputs": [
    {
     "name": "stdout",
     "output_type": "stream",
     "text": [
      "My name is Sanchit Balchandani\n"
     ]
    }
   ],
   "source": [
    "last_name =  \"Balchandani\"\n",
    "a = \"My name is Sanchit {}\".format(last_name)\n",
    "print(a)"
   ]
  },
  {
   "cell_type": "code",
   "execution_count": 2,
   "metadata": {},
   "outputs": [
    {
     "name": "stdout",
     "output_type": "stream",
     "text": [
      "My Name is Sanchit Balchandani\n"
     ]
    }
   ],
   "source": [
    "print(f\"My Name is Sanchit {last_name}\")"
   ]
  },
  {
   "cell_type": "code",
   "execution_count": 4,
   "metadata": {
    "slideshow": {
     "slide_type": "fragment"
    }
   },
   "outputs": [
    {
     "name": "stdout",
     "output_type": "stream",
     "text": [
      "\n",
      " Hello Santosh, hope you are finding this training useful!\n",
      "\n",
      " Hello Sunil, hope you are finding this training useful!\n"
     ]
    },
    {
     "ename": "TypeError",
     "evalue": "hello_there() missing 1 required positional argument: 'name'",
     "output_type": "error",
     "traceback": [
      "\u001b[1;31m---------------------------------------------------------------------------\u001b[0m",
      "\u001b[1;31mTypeError\u001b[0m                                 Traceback (most recent call last)",
      "\u001b[1;32m<ipython-input-4-b0e29a0e67fd>\u001b[0m in \u001b[0;36m<module>\u001b[1;34m\u001b[0m\n\u001b[0;32m      7\u001b[0m \u001b[0mhello_there\u001b[0m\u001b[1;33m(\u001b[0m\u001b[1;34m'Santosh'\u001b[0m\u001b[1;33m)\u001b[0m\u001b[1;33m\u001b[0m\u001b[1;33m\u001b[0m\u001b[0m\n\u001b[0;32m      8\u001b[0m \u001b[0mhello_there\u001b[0m\u001b[1;33m(\u001b[0m\u001b[1;34m'Sunil'\u001b[0m\u001b[1;33m)\u001b[0m\u001b[1;33m\u001b[0m\u001b[1;33m\u001b[0m\u001b[0m\n\u001b[1;32m----> 9\u001b[1;33m \u001b[0mhello_there\u001b[0m\u001b[1;33m(\u001b[0m\u001b[1;33m)\u001b[0m\u001b[1;33m\u001b[0m\u001b[1;33m\u001b[0m\u001b[0m\n\u001b[0m",
      "\u001b[1;31mTypeError\u001b[0m: hello_there() missing 1 required positional argument: 'name'"
     ]
    }
   ],
   "source": [
    "# same function fails if you don't pass the value\n",
    "def hello_there(name):\n",
    "    if not name:\n",
    "        print(\"lkjdljfl\")\n",
    "    print(\"\\n Hello {}, hope you are finding this training useful!\".format(name))\n",
    "    \n",
    "hello_there('Santosh')\n",
    "hello_there('Sunil')\n",
    "hello_there()"
   ]
  },
  {
   "cell_type": "markdown",
   "metadata": {
    "slideshow": {
     "slide_type": "subslide"
    }
   },
   "source": [
    "That makes sense; the function needs to have a name in order to do its work, so without a name it is stuck.\n",
    "\n",
    "If you want your function to do something by default, even if no information is passed to it, you can do so by giving your arguments default values. You do this by specifying the default values when you define the function:"
   ]
  },
  {
   "cell_type": "code",
   "execution_count": 5,
   "metadata": {
    "slideshow": {
     "slide_type": "fragment"
    }
   },
   "outputs": [
    {
     "name": "stdout",
     "output_type": "stream",
     "text": [
      "\n",
      " Hello Santosh, hope you are finding this training useful!\n",
      "\n",
      " Hello Sunil, hope you are finding this training useful!\n",
      "\n",
      " Hello EveryOne, hope you are finding this training useful!\n"
     ]
    }
   ],
   "source": [
    "def hello_there(name=\"EveryOne\"):\n",
    "    print(\"\\n Hello {}, hope you are finding this training useful!\".format(name))\n",
    "    \n",
    "hello_there('Santosh')\n",
    "hello_there('Sunil')\n",
    "hello_there()"
   ]
  },
  {
   "cell_type": "markdown",
   "metadata": {
    "slideshow": {
     "slide_type": "fragment"
    }
   },
   "source": [
    "This is particularly useful when you have a number of arguments in your function, and some of those arguments almost always have the same value. This allows people who use the function to only specify the values that are unique to their use of the function."
   ]
  },
  {
   "cell_type": "markdown",
   "metadata": {
    "slideshow": {
     "slide_type": "slide"
    }
   },
   "source": [
    "<a name=\"positional_arguments\"></a>Positional Arguments\n",
    "==="
   ]
  },
  {
   "cell_type": "markdown",
   "metadata": {
    "slideshow": {
     "slide_type": "fragment"
    }
   },
   "source": [
    "Much of what you will have to learn about using functions involves how to pass values from your calling statement to the function itself. The example we just looked at is pretty simple, in that the function only needed one argument in order to do its work. Let's take a look at a function that requires two arguments to do its work."
   ]
  },
  {
   "cell_type": "code",
   "execution_count": 7,
   "metadata": {
    "scrolled": true,
    "slideshow": {
     "slide_type": "fragment"
    }
   },
   "outputs": [
    {
     "name": "stdout",
     "output_type": "stream",
     "text": [
      "Nick name: Professor\n",
      "First name: Álvaro\n",
      "Last name: Morte\n",
      "Age: 45\n",
      "\n",
      "\n",
      "Nick name: Tokyo\n",
      "First name: Úrsula\n",
      "Last name: Corberó\n",
      "Age: 30\n",
      "\n",
      "\n",
      "Nick name: Berlin\n",
      "First name: Pedro González\n",
      "Last name: Alonso\n",
      "Age: 48\n",
      "\n",
      "\n"
     ]
    }
   ],
   "source": [
    "def describe_money_heist_character(nick_name, first_name, last_name, age):\n",
    "    print(\"Nick name: {}\".format(nick_name.title()))\n",
    "    print(\"First name: {}\".format(first_name.title()))\n",
    "    print(\"Last name: {}\".format(last_name.title()))\n",
    "    print(\"Age: {}\".format(age))\n",
    "    print(\"\\n\")\n",
    "\n",
    "describe_money_heist_character('Professor', 'Álvaro', 'Morte', 45)\n",
    "describe_money_heist_character('Tokyo', 'Úrsula', 'Corberó', 30)\n",
    "describe_money_heist_character('Berlin', 'Pedro González', 'Alonso', 48)"
   ]
  },
  {
   "cell_type": "markdown",
   "metadata": {
    "slideshow": {
     "slide_type": "subslide"
    }
   },
   "source": [
    "The arguments in this function are `nick_name`, `first_name`, `last_name`, and `age`. These are called *positional arguments* because Python knows which value to assign to each by the order in which you give the function values. In the calling line\n",
    "\n",
    "    describe_character('Professor', 'Álvaro', 'Morte', 45)\n",
    "\n",
    "we send the values to the function. Python matches the first value with the first argument `nick_name`. It matches the second value with the second argument `first_name`. Finally it matches the last value with the third argument `age`.\n",
    "\n",
    "This is pretty straightforward, but it means we have to make sure to get the arguments in the right order."
   ]
  },
  {
   "cell_type": "markdown",
   "metadata": {
    "slideshow": {
     "slide_type": "subslide"
    }
   },
   "source": [
    "If we mess up the order, we get nonsense results or an error:"
   ]
  },
  {
   "cell_type": "code",
   "execution_count": 8,
   "metadata": {
    "slideshow": {
     "slide_type": "fragment"
    }
   },
   "outputs": [
    {
     "name": "stdout",
     "output_type": "stream",
     "text": [
      "Nick name: Professor\n",
      "First name: Álvaro\n",
      "Last name: Morte\n",
      "Age: 45\n",
      "\n",
      "\n",
      "Nick name: Tokyo\n",
      "First name: Úrsula\n",
      "Last name: Corberó\n",
      "Age: 30\n",
      "\n",
      "\n"
     ]
    },
    {
     "ename": "AttributeError",
     "evalue": "'int' object has no attribute 'title'",
     "output_type": "error",
     "traceback": [
      "\u001b[1;31m---------------------------------------------------------------------------\u001b[0m",
      "\u001b[1;31mAttributeError\u001b[0m                            Traceback (most recent call last)",
      "\u001b[1;32m<ipython-input-8-f5428f0026b2>\u001b[0m in \u001b[0;36m<module>\u001b[1;34m\u001b[0m\n\u001b[0;32m      8\u001b[0m \u001b[0mdescribe_money_heist_character\u001b[0m\u001b[1;33m(\u001b[0m\u001b[1;34m'Professor'\u001b[0m\u001b[1;33m,\u001b[0m \u001b[1;34m'Álvaro'\u001b[0m\u001b[1;33m,\u001b[0m \u001b[1;34m'Morte'\u001b[0m\u001b[1;33m,\u001b[0m \u001b[1;36m45\u001b[0m\u001b[1;33m)\u001b[0m\u001b[1;33m\u001b[0m\u001b[1;33m\u001b[0m\u001b[0m\n\u001b[0;32m      9\u001b[0m \u001b[0mdescribe_money_heist_character\u001b[0m\u001b[1;33m(\u001b[0m\u001b[1;34m'Tokyo'\u001b[0m\u001b[1;33m,\u001b[0m \u001b[1;34m'Úrsula'\u001b[0m\u001b[1;33m,\u001b[0m \u001b[1;34m'Corberó'\u001b[0m\u001b[1;33m,\u001b[0m \u001b[1;36m30\u001b[0m\u001b[1;33m)\u001b[0m\u001b[1;33m\u001b[0m\u001b[1;33m\u001b[0m\u001b[0m\n\u001b[1;32m---> 10\u001b[1;33m \u001b[0mdescribe_money_heist_character\u001b[0m\u001b[1;33m(\u001b[0m\u001b[1;36m48\u001b[0m\u001b[1;33m,\u001b[0m \u001b[1;34m'Berlin'\u001b[0m\u001b[1;33m,\u001b[0m \u001b[1;34m'Pedro González'\u001b[0m\u001b[1;33m,\u001b[0m \u001b[1;34m'Alonso'\u001b[0m\u001b[1;33m)\u001b[0m\u001b[1;33m\u001b[0m\u001b[1;33m\u001b[0m\u001b[0m\n\u001b[0m",
      "\u001b[1;32m<ipython-input-8-f5428f0026b2>\u001b[0m in \u001b[0;36mdescribe_money_heist_character\u001b[1;34m(nick_name, first_name, last_name, age)\u001b[0m\n\u001b[0;32m      1\u001b[0m \u001b[1;32mdef\u001b[0m \u001b[0mdescribe_money_heist_character\u001b[0m\u001b[1;33m(\u001b[0m\u001b[0mnick_name\u001b[0m\u001b[1;33m,\u001b[0m \u001b[0mfirst_name\u001b[0m\u001b[1;33m,\u001b[0m \u001b[0mlast_name\u001b[0m\u001b[1;33m,\u001b[0m \u001b[0mage\u001b[0m\u001b[1;33m)\u001b[0m\u001b[1;33m:\u001b[0m\u001b[1;33m\u001b[0m\u001b[1;33m\u001b[0m\u001b[0m\n\u001b[1;32m----> 2\u001b[1;33m     \u001b[0mprint\u001b[0m\u001b[1;33m(\u001b[0m\u001b[1;34m\"Nick name: {}\"\u001b[0m\u001b[1;33m.\u001b[0m\u001b[0mformat\u001b[0m\u001b[1;33m(\u001b[0m\u001b[0mnick_name\u001b[0m\u001b[1;33m.\u001b[0m\u001b[0mtitle\u001b[0m\u001b[1;33m(\u001b[0m\u001b[1;33m)\u001b[0m\u001b[1;33m)\u001b[0m\u001b[1;33m)\u001b[0m\u001b[1;33m\u001b[0m\u001b[1;33m\u001b[0m\u001b[0m\n\u001b[0m\u001b[0;32m      3\u001b[0m     \u001b[0mprint\u001b[0m\u001b[1;33m(\u001b[0m\u001b[1;34m\"First name: {}\"\u001b[0m\u001b[1;33m.\u001b[0m\u001b[0mformat\u001b[0m\u001b[1;33m(\u001b[0m\u001b[0mfirst_name\u001b[0m\u001b[1;33m.\u001b[0m\u001b[0mtitle\u001b[0m\u001b[1;33m(\u001b[0m\u001b[1;33m)\u001b[0m\u001b[1;33m)\u001b[0m\u001b[1;33m)\u001b[0m\u001b[1;33m\u001b[0m\u001b[1;33m\u001b[0m\u001b[0m\n\u001b[0;32m      4\u001b[0m     \u001b[0mprint\u001b[0m\u001b[1;33m(\u001b[0m\u001b[1;34m\"Last name: {}\"\u001b[0m\u001b[1;33m.\u001b[0m\u001b[0mformat\u001b[0m\u001b[1;33m(\u001b[0m\u001b[0mlast_name\u001b[0m\u001b[1;33m.\u001b[0m\u001b[0mtitle\u001b[0m\u001b[1;33m(\u001b[0m\u001b[1;33m)\u001b[0m\u001b[1;33m)\u001b[0m\u001b[1;33m)\u001b[0m\u001b[1;33m\u001b[0m\u001b[1;33m\u001b[0m\u001b[0m\n\u001b[0;32m      5\u001b[0m     \u001b[0mprint\u001b[0m\u001b[1;33m(\u001b[0m\u001b[1;34m\"Age: {}\"\u001b[0m\u001b[1;33m.\u001b[0m\u001b[0mformat\u001b[0m\u001b[1;33m(\u001b[0m\u001b[0mage\u001b[0m\u001b[1;33m)\u001b[0m\u001b[1;33m)\u001b[0m\u001b[1;33m\u001b[0m\u001b[1;33m\u001b[0m\u001b[0m\n",
      "\u001b[1;31mAttributeError\u001b[0m: 'int' object has no attribute 'title'"
     ]
    }
   ],
   "source": [
    "def describe_money_heist_character(nick_name, first_name, last_name, age):\n",
    "    \"\"\"\n",
    "        nick_name: str\n",
    "        first_name: str\n",
    "        last_name: str\n",
    "        \n",
    "        return:Dict/Str/Int\n",
    "        \n",
    "    \"\"\"\n",
    "    print(\"Nick name: {}\".format(nick_name.title()))\n",
    "    print(\"First name: {}\".format(first_name.title()))\n",
    "    print(\"Last name: {}\".format(last_name.title()))\n",
    "    print(\"Age: {}\".format(age))\n",
    "    print(\"\\n\")\n",
    "\n",
    "describe_money_heist_character('Professor', 'Álvaro', 'Morte', 45)\n",
    "describe_money_heist_character('Tokyo', 'Úrsula', 'Corberó', 30)\n",
    "describe_money_heist_character(48, 'Berlin', 'Pedro González', 'Alonso')"
   ]
  },
  {
   "cell_type": "markdown",
   "metadata": {
    "slideshow": {
     "slide_type": "subslide"
    }
   },
   "source": [
    "<a name='keyword_arguments'></a>Keyword arguments\n",
    "===\n",
    "Python allows us to use a syntax called *keyword arguments*. In this case, we can give the arguments in any order when we call the function, as long as we use the name of the arguments in our calling statement. Here is how the previous code can be made to work using keyword arguments:"
   ]
  },
  {
   "cell_type": "code",
   "execution_count": 12,
   "metadata": {
    "slideshow": {
     "slide_type": "subslide"
    }
   },
   "outputs": [
    {
     "name": "stdout",
     "output_type": "stream",
     "text": [
      "Nick name: Professor\n",
      "First name: Álvaro\n",
      "Last name: Morte\n",
      "This guy is immortal\n",
      "\n",
      "\n",
      "Nick name: Professor\n",
      "First name: Álvaro\n",
      "Last name: Morte\n",
      "This guy is immortal\n",
      "\n",
      "\n",
      "Nick name: Tokyo\n",
      "First name: Úrsula\n",
      "Last name: Corberó\n",
      "Age: 30\n",
      "\n",
      "\n",
      "Nick name: Berlin\n",
      "First name: Pedro González\n",
      "Last name: Alonso\n",
      "This guy is immortal\n",
      "This character has died :(\n",
      "\n",
      "\n"
     ]
    }
   ],
   "source": [
    "def describe_money_heist_character(nick_name, first_name, last_name, age=None, died=None):\n",
    "    print(\"Nick name: {}\".format(nick_name.title()))\n",
    "    print(\"First name: {}\".format(first_name.title()))\n",
    "    print(\"Last name: {}\".format(last_name.title()))\n",
    "    if age and isinstance(age, int):\n",
    "        print(\"Age: {}\".format(age))\n",
    "    else:\n",
    "        print(\"This guy is immortal\")\n",
    "    if died:\n",
    "        print(\"This character has died :(\")\n",
    "    print(\"\\n\")\n",
    "\n",
    "describe_money_heist_character('Professor', 'Álvaro', 'Morte', age=\"Sanchit\")\n",
    "describe_money_heist_character('Professor', 'Álvaro', 'Morte')\n",
    "describe_money_heist_character('Tokyo', 'Úrsula', 'Corberó', age=30)\n",
    "describe_money_heist_character('Berlin', 'Pedro González', 'Alonso', died=True)"
   ]
  },
  {
   "cell_type": "markdown",
   "metadata": {
    "slideshow": {
     "slide_type": "slide"
    }
   },
   "source": [
    "<a name='arbitrary_arguments'></a>Accepting an arbitrary number of arguments\n",
    "==="
   ]
  },
  {
   "cell_type": "code",
   "execution_count": 13,
   "metadata": {
    "slideshow": {
     "slide_type": "subslide"
    }
   },
   "outputs": [
    {
     "name": "stdout",
     "output_type": "stream",
     "text": [
      "The sum of your numbers is 3.\n",
      "The sum of your numbers is 1.\n",
      "The sum of your numbers is -1.\n"
     ]
    }
   ],
   "source": [
    "def add(num_1, num_2):\n",
    "    sum = num_1 + num_2\n",
    "    print(\"The sum of your numbers is {}.\".format(sum))\n",
    "    \n",
    "# Let's add some numbers.\n",
    "add(1, 2)\n",
    "add(-1, 2)\n",
    "add(1, -2)"
   ]
  },
  {
   "cell_type": "markdown",
   "metadata": {
    "slideshow": {
     "slide_type": "subslide"
    }
   },
   "source": [
    "This function appears to work well. But what if we pass it three numbers, which is a perfectly reasonable thing to do mathematically?"
   ]
  },
  {
   "cell_type": "code",
   "execution_count": 14,
   "metadata": {
    "slideshow": {
     "slide_type": "fragment"
    }
   },
   "outputs": [
    {
     "ename": "TypeError",
     "evalue": "add() takes 2 positional arguments but 3 were given",
     "output_type": "error",
     "traceback": [
      "\u001b[1;31m---------------------------------------------------------------------------\u001b[0m",
      "\u001b[1;31mTypeError\u001b[0m                                 Traceback (most recent call last)",
      "\u001b[1;32m<ipython-input-14-c9c3d452b8da>\u001b[0m in \u001b[0;36m<module>\u001b[1;34m\u001b[0m\n\u001b[0;32m      4\u001b[0m \u001b[1;33m\u001b[0m\u001b[0m\n\u001b[0;32m      5\u001b[0m \u001b[1;31m# Let's add some numbers.\u001b[0m\u001b[1;33m\u001b[0m\u001b[1;33m\u001b[0m\u001b[1;33m\u001b[0m\u001b[0m\n\u001b[1;32m----> 6\u001b[1;33m \u001b[0madd\u001b[0m\u001b[1;33m(\u001b[0m\u001b[1;36m1\u001b[0m\u001b[1;33m,\u001b[0m \u001b[1;36m2\u001b[0m\u001b[1;33m,\u001b[0m \u001b[1;36m3\u001b[0m\u001b[1;33m)\u001b[0m\u001b[1;33m\u001b[0m\u001b[1;33m\u001b[0m\u001b[0m\n\u001b[0m",
      "\u001b[1;31mTypeError\u001b[0m: add() takes 2 positional arguments but 3 were given"
     ]
    }
   ],
   "source": [
    "def add(num_1, num_2):\n",
    "    sum = num_1 + num_2\n",
    "    print(\"The sum of your numbers is {}.\".format(sum))\n",
    "    \n",
    "# Let's add some numbers.\n",
    "add(1, 2, 3)"
   ]
  },
  {
   "cell_type": "code",
   "execution_count": 16,
   "metadata": {
    "slideshow": {
     "slide_type": "fragment"
    }
   },
   "outputs": [
    {
     "name": "stdout",
     "output_type": "stream",
     "text": [
      "\n",
      "arg_1: 1\n",
      "arg_2: 2\n",
      "\n",
      "arg_1: 1\n",
      "arg_2: 2\n",
      "arg_3 value: 3\n",
      "\n",
      "arg_1: 1\n",
      "arg_2: 2\n",
      "arg_3 value: 3\n",
      "arg_3 value: 4\n",
      "\n",
      "arg_1: 1\n",
      "arg_2: 2\n",
      "arg_3 value: 3\n",
      "arg_3 value: 4\n",
      "arg_3 value: 5\n",
      "arg_3 value: 6\n",
      "arg_3 value: 7\n",
      "arg_3 value: 8\n",
      "arg_3 value: 9\n"
     ]
    }
   ],
   "source": [
    "#*args , **kwargs\n",
    "def example_function(arg_1, arg_2, *arg_3):\n",
    "    # Let's look at the argument values.\n",
    "    print('\\narg_1:', arg_1)\n",
    "    print('arg_2:', arg_2)\n",
    "    for value in arg_3:\n",
    "        print('arg_3 value:', value)\n",
    "\n",
    "example_function(1, 2)\n",
    "example_function(1, 2, 3)\n",
    "example_function(1, 2, 3, 4)\n",
    "example_function(1, 2, 3, 4, 5,6,7,8,9)"
   ]
  },
  {
   "cell_type": "markdown",
   "metadata": {
    "slideshow": {
     "slide_type": "subslide"
    }
   },
   "source": [
    "We can now rewrite the add() function to accept two or more arguments, and print the sum of those numbers:"
   ]
  },
  {
   "cell_type": "code",
   "execution_count": 17,
   "metadata": {
    "slideshow": {
     "slide_type": "fragment"
    }
   },
   "outputs": [
    {
     "name": "stdout",
     "output_type": "stream",
     "text": [
      "The sum of your numbers is 6.\n"
     ]
    }
   ],
   "source": [
    "def add(*nums):\n",
    "    \"\"\"This function adds the given numbers together and prints the sum.\"\"\"\n",
    "    # Print the results.\n",
    "    print(\"The sum of your numbers is {}.\".format(sum(nums)))\n",
    "    \n",
    "# Let's add some numbers.\n",
    "add(1, 2, 3)"
   ]
  },
  {
   "cell_type": "code",
   "execution_count": 19,
   "metadata": {
    "slideshow": {
     "slide_type": "fragment"
    }
   },
   "outputs": [
    {
     "name": "stdout",
     "output_type": "stream",
     "text": [
      "The sum of your numbers is 3.\n",
      "The sum of your numbers is 6.\n",
      "The sum of your numbers is 10.\n",
      "The sum of your numbers is 15.\n"
     ]
    }
   ],
   "source": [
    "def add(num_1, num_2, *nums):\n",
    "    sum = num_1 + num_2\n",
    "    \n",
    "    for num in nums:\n",
    "        sum = sum + num\n",
    "        \n",
    "    print(f\"The sum of your numbers is {sum}.\")\n",
    "\n",
    "add(1, 2)\n",
    "add(1, 2, 3)\n",
    "add(1, 2, 3, 4)\n",
    "add(1, 2, 3, 4, 5)"
   ]
  },
  {
   "cell_type": "markdown",
   "metadata": {
    "slideshow": {
     "slide_type": "subslide"
    }
   },
   "source": [
    "<a name='arbitrary_keyword_arguments'></a>Accepting an arbitrary number of keyword arguments\n",
    "---\n",
    "Python also provides a syntax for accepting an arbitrary number of keyword arguments. The syntax looks like this:"
   ]
  },
  {
   "cell_type": "code",
   "execution_count": 18,
   "metadata": {
    "scrolled": false
   },
   "outputs": [
    {
     "name": "stdout",
     "output_type": "stream",
     "text": [
      "1 2 4 5\n",
      "{}\n",
      "1 3\n",
      "{'value': 1, 'name': 5}\n",
      "value : 1\n",
      "name : 5\n"
     ]
    }
   ],
   "source": [
    "def example_function(*args, **kwargs):\n",
    "    print(*args)\n",
    "    print(kwargs)\n",
    "    for k, v in kwargs.items():\n",
    "        print(k,':', v)\n",
    "        \n",
    "example_function(1, 2, 4, 5)\n",
    "example_function(1, 3, value=1, name=5)\n"
   ]
  },
  {
   "cell_type": "code",
   "execution_count": null,
   "metadata": {},
   "outputs": [],
   "source": []
  }
 ],
 "metadata": {
  "kernelspec": {
   "display_name": "Python 3",
   "language": "python",
   "name": "python3"
  },
  "language_info": {
   "codemirror_mode": {
    "name": "ipython",
    "version": 3
   },
   "file_extension": ".py",
   "mimetype": "text/x-python",
   "name": "python",
   "nbconvert_exporter": "python",
   "pygments_lexer": "ipython3",
   "version": "3.7.5"
  }
 },
 "nbformat": 4,
 "nbformat_minor": 1
}
