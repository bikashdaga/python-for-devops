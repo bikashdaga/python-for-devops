{
 "cells": [
  {
   "cell_type": "markdown",
   "metadata": {},
   "source": [
    "# Session 2 - Control Flow, Loops and Functions"
   ]
  },
  {
   "cell_type": "markdown",
   "metadata": {
    "slideshow": {
     "slide_type": "slide"
    }
   },
   "source": [
    "## If Statements"
   ]
  },
  {
   "cell_type": "markdown",
   "metadata": {
    "slideshow": {
     "slide_type": "slide"
    }
   },
   "source": [
    "<a name='what'></a>What is an *if* statement?\n",
    "===\n",
    "An *if* statement tests for a condition, and then responds to that condition. If the condition is true, then whatever action is listed next gets carried out. You can test for multiple conditions at the same time, and respond appropriately to each condition."
   ]
  },
  {
   "cell_type": "markdown",
   "metadata": {
    "slideshow": {
     "slide_type": "slide"
    }
   },
   "source": [
    "<a name='if-elif-else'></a>The if-elif...else chain\n",
    "===\n",
    "You can test whatever series of conditions you want to, and you can test your conditions in any combination you want."
   ]
  },
  {
   "cell_type": "markdown",
   "metadata": {
    "slideshow": {
     "slide_type": "subslide"
    }
   },
   "source": [
    "<a name='simple_if'></a>Simple if statements\n",
    "---\n",
    "The simplest test has a single **if** statement, and a single statement to execute if the condition is **True**."
   ]
  },
  {
   "cell_type": "code",
   "execution_count": 54,
   "metadata": {
    "slideshow": {
     "slide_type": "fragment"
    }
   },
   "outputs": [
    {
     "name": "stdout",
     "output_type": "stream",
     "text": [
      "Wow, we have a lot of robbers here!\n"
     ]
    }
   ],
   "source": [
    "robbers = ['berlin', 'moscow', 'rio', 'tokyo']\n",
    "\n",
    "if len(robbers) > 3:\n",
    "    print(\"Wow, we have a lot of robbers here!\")"
   ]
  },
  {
   "cell_type": "code",
   "execution_count": 55,
   "metadata": {
    "slideshow": {
     "slide_type": "fragment"
    }
   },
   "outputs": [],
   "source": [
    "robbers = ['berlin', 'moscow']\n",
    "\n",
    "if len(robbers) > 3:\n",
    "    print(\"Wow, we have a lot of robbers here!\")"
   ]
  },
  {
   "cell_type": "markdown",
   "metadata": {
    "slideshow": {
     "slide_type": "fragment"
    }
   },
   "source": [
    "Notice that there are no errors. The condition `len(robbers) > 3` evaluates to False, and the program moves on to any lines after the **if** block."
   ]
  },
  {
   "cell_type": "markdown",
   "metadata": {
    "slideshow": {
     "slide_type": "subslide"
    }
   },
   "source": [
    "<a name='if-else'></a>if-else statements\n",
    "---\n",
    "Many times you will want to respond in two possible ways to a test. If the test evaluates to **True**, you will want to do one thing. If the test evaluates to **False**, you will want to do something else. The **if-else** structure lets you do that easily. Here's what it looks like:"
   ]
  },
  {
   "cell_type": "code",
   "execution_count": 57,
   "metadata": {
    "slideshow": {
     "slide_type": "fragment"
    }
   },
   "outputs": [
    {
     "name": "stdout",
     "output_type": "stream",
     "text": [
      "Okay, this is a reasonable number of robbers.\n"
     ]
    }
   ],
   "source": [
    "robbers = ['berlin', 'moscow', 'rio', 'tokyo']\n",
    "\n",
    "if len(robbers) > 3:\n",
    "    print(\"Wow, we have a lot of robbers here!\")\n",
    "else:\n",
    "    print(\"Okay, this is a reasonable number of robbers.\")"
   ]
  },
  {
   "cell_type": "markdown",
   "metadata": {
    "slideshow": {
     "slide_type": "subslide"
    }
   },
   "source": [
    "Our results have not changed in this case, because if the test evaluates to **True** only the statements under the **if** statement are executed. The statements under **else** area only executed if the test fails:"
   ]
  },
  {
   "cell_type": "code",
   "execution_count": 59,
   "metadata": {
    "slideshow": {
     "slide_type": "fragment"
    }
   },
   "outputs": [
    {
     "name": "stdout",
     "output_type": "stream",
     "text": [
      "Okay, this is a reasonable number of robbers.\n"
     ]
    }
   ],
   "source": [
    "robbers = ['berlin', 'moscow']\n",
    "\n",
    "if len(robbers) > 3:\n",
    "    print(\"Wow, we have a lot of robbers here!\")\n",
    "else:\n",
    "    print(\"Okay, this is a reasonable number of robbers.\")"
   ]
  },
  {
   "cell_type": "markdown",
   "metadata": {
    "slideshow": {
     "slide_type": "fragment"
    }
   },
   "source": [
    "The test evaluated to **False**, so only the statement under `else` is run."
   ]
  },
  {
   "cell_type": "markdown",
   "metadata": {
    "slideshow": {
     "slide_type": "subslide"
    }
   },
   "source": [
    "<a name='if-elif-else_chains'></a>if-elif...else chains\n",
    "---\n",
    "Many times, you will want to test a series of conditions, rather than just an either-or situation. You can do this with a series of if-elif-else statements\n",
    "\n",
    "There is no limit to how many conditions you can test. You always need one if statement to start the chain, and you can never have more than one else statement. But you can have as many elif statements as you want."
   ]
  },
  {
   "cell_type": "code",
   "execution_count": 60,
   "metadata": {
    "slideshow": {
     "slide_type": "fragment"
    }
   },
   "outputs": [
    {
     "name": "stdout",
     "output_type": "stream",
     "text": [
      "Holy shit!, the whole money heist team is here!\n"
     ]
    }
   ],
   "source": [
    "robbers = ['berlin', 'moscow', 'rio', 'denver', 'tokyo', 'naomi', 'professor']\n",
    "\n",
    "if len(robbers) >= 5:\n",
    "    print(\"Holy shit!, the whole money heist team is here!\")\n",
    "elif len(robbers) >= 3:\n",
    "    print(\"Wow, we have a lot of robbers here!\")\n",
    "else:\n",
    "    print(\"Okay, this is a reasonable number of robbers.\")"
   ]
  },
  {
   "cell_type": "markdown",
   "metadata": {
    "slideshow": {
     "slide_type": "subslide"
    }
   },
   "source": [
    "It is important to note that in situations like this, only the first test is evaluated. In an if-elif-else chain, once a test passes the rest of the conditions are ignored."
   ]
  },
  {
   "cell_type": "code",
   "execution_count": 61,
   "metadata": {
    "slideshow": {
     "slide_type": "fragment"
    }
   },
   "outputs": [
    {
     "name": "stdout",
     "output_type": "stream",
     "text": [
      "Wow, we have a lot of robbers here!\n"
     ]
    }
   ],
   "source": [
    "robbers = ['berlin', 'moscow', 'rio', 'denver']\n",
    "\n",
    "if len(robbers) >= 5:\n",
    "    print(\"Holy shit!, the whole money heist team is here!\")\n",
    "elif len(robbers) >= 3:\n",
    "    print(\"Wow, we have a lot of robbers here!\")\n",
    "else:\n",
    "    print(\"Okay, this is a reasonable number of robbers.\")"
   ]
  },
  {
   "cell_type": "markdown",
   "metadata": {
    "slideshow": {
     "slide_type": "subslide"
    }
   },
   "source": [
    "The first test failed, so Python evaluated the second test. That test passed, so the statement corresponding to `len(robbers) >= 3` is executed."
   ]
  },
  {
   "cell_type": "code",
   "execution_count": 62,
   "metadata": {
    "slideshow": {
     "slide_type": "fragment"
    }
   },
   "outputs": [
    {
     "name": "stdout",
     "output_type": "stream",
     "text": [
      "Okay, this is a reasonable number of robbers.\n"
     ]
    }
   ],
   "source": [
    "robbers = ['berlin', 'moscow']\n",
    "\n",
    "if len(robbers) >= 5:\n",
    "    print(\"Holy shit!, the whole money heist team is here!\")\n",
    "elif len(robbers) >= 3:\n",
    "    print(\"Wow, we have a lot of robbers here!\")\n",
    "else:\n",
    "    print(\"Okay, this is a reasonable number of robbers.\")"
   ]
  },
  {
   "cell_type": "markdown",
   "metadata": {
    "slideshow": {
     "slide_type": "subslide"
    }
   },
   "source": [
    "In this situation, the first two tests fail, so the statement in the else clause is executed. Note that this statement would be executed even if there are no robbers at all:"
   ]
  },
  {
   "cell_type": "code",
   "execution_count": 63,
   "metadata": {
    "slideshow": {
     "slide_type": "fragment"
    }
   },
   "outputs": [
    {
     "name": "stdout",
     "output_type": "stream",
     "text": [
      "Okay, this is a reasonable number of robbers.\n"
     ]
    }
   ],
   "source": [
    "robbers = []\n",
    "\n",
    "if len(robbers) >= 5:\n",
    "    print(\"Holy shit!, the whole money heist team is here!\")\n",
    "elif len(robbers) >= 3:\n",
    "    print(\"Wow, we have a lot of robbers here!\")\n",
    "else:\n",
    "    print(\"Okay, this is a reasonable number of robbers.\")"
   ]
  },
  {
   "cell_type": "markdown",
   "metadata": {
    "slideshow": {
     "slide_type": "subslide"
    }
   },
   "source": [
    "Note that you don't have to take any action at all when you start a series of if statements. You could simply do nothing in the situation that there are no robbers by replacing the `else` clause with another `elif` clause:"
   ]
  },
  {
   "cell_type": "code",
   "execution_count": 64,
   "metadata": {},
   "outputs": [
    {
     "data": {
      "text/plain": [
       "False"
      ]
     },
     "execution_count": 64,
     "metadata": {},
     "output_type": "execute_result"
    }
   ],
   "source": [
    "robbers = ['berlin', 'moscow', 'rio', 'denver']\n",
    "\n",
    "'professor' in robbers"
   ]
  },
  {
   "cell_type": "code",
   "execution_count": 67,
   "metadata": {
    "slideshow": {
     "slide_type": "subslide"
    }
   },
   "outputs": [
    {
     "name": "stdout",
     "output_type": "stream",
     "text": [
      "Hello, berlin! and Moscow\n"
     ]
    }
   ],
   "source": [
    "robbers = ['berlin', 'moscow']\n",
    "\n",
    "if ('berlin' in robbers) or ('moscow' in robbers):\n",
    "    print(\"Hello, berlin! and Moscow\")\n",
    "elif 'moscow' in robbers:\n",
    "    print(\"Hello, moscow!\")\n",
    "elif 'rio' in robbers:\n",
    "    print(\"Hello, rio!\")\n",
    "elif 'denver' in robbers:\n",
    "    print(\"Hello, denver!\")"
   ]
  },
  {
   "cell_type": "code",
   "execution_count": null,
   "metadata": {
    "slideshow": {
     "slide_type": "fragment"
    }
   },
   "outputs": [],
   "source": [
    "robbers = ['berlin', 'moscow']\n",
    "\n",
    "if 'berlin' in robbers:\n",
    "    print(\"Hello, berlin!\")\n",
    "elif 'moscow' in robbers:\n",
    "    print(\"Hello, moscow!\")\n",
    "elif 'rio' in robbers:\n",
    "    print(\"Hello, rio!\")\n",
    "elif 'denver' in robbers:\n",
    "    print(\"Hello, denver!\")"
   ]
  },
  {
   "cell_type": "markdown",
   "metadata": {
    "slideshow": {
     "slide_type": "subslide"
    }
   },
   "source": [
    "Of course, this could be written much more cleanly using lists and for loops. See if you can follow this code."
   ]
  },
  {
   "cell_type": "code",
   "execution_count": null,
   "metadata": {
    "slideshow": {
     "slide_type": "fragment"
    }
   },
   "outputs": [],
   "source": [
    "robbers_we_know = ['berlin', 'moscow', 'rio', 'denver', 'tokyo', 'naomi']\n",
    "robbers_present = ['berlin', 'moscow']\n",
    "\n",
    "# Go through all the robbers that are present, and greet the robbers we know.\n",
    "for robber in robbers_present:\n",
    "    if robber in robbers_we_know:\n",
    "        print(\"Hello, %s!\" % robber.title())"
   ]
  },
  {
   "cell_type": "markdown",
   "metadata": {
    "slideshow": {
     "slide_type": "fragment"
    }
   },
   "source": [
    "This is the kind of code you should be aiming to write. It is fine to come up with code that is less efficient at first. When you notice yourself writing the same kind of code repeatedly in one program, look to see if you can use a loop or a function to make your code more efficient."
   ]
  },
  {
   "cell_type": "markdown",
   "metadata": {
    "slideshow": {
     "slide_type": "slide"
    }
   },
   "source": [
    "<a name=\"true_false\"></a>True and False values\n",
    "===\n",
    "Every value can be evaluated as True or False. The general rule is that any non-zero or non-empty value will evaluate to True. If you are ever unsure, you can open a Python terminal and write two lines to find out if the value you are considering is True or False."
   ]
  },
  {
   "cell_type": "markdown",
   "metadata": {
    "slideshow": {
     "slide_type": "fragment"
    }
   },
   "source": [
    "Take a look at the following examples, keep them in mind, and test any value you are curious about."
   ]
  },
  {
   "cell_type": "code",
   "execution_count": 70,
   "metadata": {
    "slideshow": {
     "slide_type": "fragment"
    }
   },
   "outputs": [
    {
     "name": "stdout",
     "output_type": "stream",
     "text": [
      "This evaluates to False.\n"
     ]
    }
   ],
   "source": [
    "if 0:\n",
    "    print(\"This evaluates to True.\")\n",
    "else:\n",
    "    print(\"This evaluates to False.\")"
   ]
  },
  {
   "cell_type": "code",
   "execution_count": 69,
   "metadata": {},
   "outputs": [
    {
     "data": {
      "text/plain": [
       "False"
      ]
     },
     "execution_count": 69,
     "metadata": {},
     "output_type": "execute_result"
    }
   ],
   "source": []
  },
  {
   "cell_type": "code",
   "execution_count": 71,
   "metadata": {
    "slideshow": {
     "slide_type": "fragment"
    }
   },
   "outputs": [
    {
     "name": "stdout",
     "output_type": "stream",
     "text": [
      "This evaluates to True.\n"
     ]
    }
   ],
   "source": [
    "if 1:\n",
    "    print(\"This evaluates to True.\")\n",
    "else:\n",
    "    print(\"This evaluates to False.\")"
   ]
  },
  {
   "cell_type": "code",
   "execution_count": 72,
   "metadata": {
    "slideshow": {
     "slide_type": "subslide"
    }
   },
   "outputs": [
    {
     "name": "stdout",
     "output_type": "stream",
     "text": [
      "This evaluates to True.\n"
     ]
    }
   ],
   "source": [
    "# Arbitrary non-zero numbers evaluate to True.\n",
    "if 1253756:\n",
    "    print(\"This evaluates to True.\")\n",
    "else:\n",
    "    print(\"This evaluates to False.\")"
   ]
  },
  {
   "cell_type": "code",
   "execution_count": 73,
   "metadata": {
    "slideshow": {
     "slide_type": "fragment"
    }
   },
   "outputs": [
    {
     "name": "stdout",
     "output_type": "stream",
     "text": [
      "This evaluates to True.\n"
     ]
    }
   ],
   "source": [
    "# Negative numbers are not zero, so they evaluate to True.\n",
    "if -1:\n",
    "    print(\"This evaluates to True.\")\n",
    "else:\n",
    "    print(\"This evaluates to False.\")"
   ]
  },
  {
   "cell_type": "code",
   "execution_count": 75,
   "metadata": {
    "slideshow": {
     "slide_type": "subslide"
    }
   },
   "outputs": [
    {
     "name": "stdout",
     "output_type": "stream",
     "text": [
      "This evaluates to False.\n"
     ]
    }
   ],
   "source": [
    "# An empty string evaluates to False.\n",
    "if '':\n",
    "    print(\"This evaluates to True.\")\n",
    "else:\n",
    "    print(\"This evaluates to False.\")"
   ]
  },
  {
   "cell_type": "code",
   "execution_count": 76,
   "metadata": {
    "slideshow": {
     "slide_type": "fragment"
    }
   },
   "outputs": [
    {
     "name": "stdout",
     "output_type": "stream",
     "text": [
      "This evaluates to True.\n"
     ]
    }
   ],
   "source": [
    "# Any other string, including a space, evaluates to True.\n",
    "if '   ':\n",
    "    print(\"This evaluates to True.\")\n",
    "else:\n",
    "    print(\"This evaluates to False.\")"
   ]
  },
  {
   "cell_type": "code",
   "execution_count": 77,
   "metadata": {
    "slideshow": {
     "slide_type": "subslide"
    }
   },
   "outputs": [
    {
     "name": "stdout",
     "output_type": "stream",
     "text": [
      "This evaluates to True.\n"
     ]
    }
   ],
   "source": [
    "# Any other string, including a space, evaluates to True.\n",
    "if 'hello':\n",
    "    print(\"This evaluates to True.\")\n",
    "else:\n",
    "    print(\"This evaluates to False.\")"
   ]
  },
  {
   "cell_type": "code",
   "execution_count": 78,
   "metadata": {
    "slideshow": {
     "slide_type": "fragment"
    }
   },
   "outputs": [
    {
     "name": "stdout",
     "output_type": "stream",
     "text": [
      "This evaluates to False.\n"
     ]
    }
   ],
   "source": [
    "# None is a special object in Python. It evaluates to False.\n",
    "if None:\n",
    "    print(\"This evaluates to True.\")\n",
    "else:\n",
    "    print(\"This evaluates to False.\")"
   ]
  },
  {
   "attachments": {},
   "cell_type": "markdown",
   "metadata": {},
   "source": [
    "<a name='Loops'></a>Loops\n",
    "---\n",
    "\n",
    "#### For Loops\n",
    "\n",
    "\n",
    "<img src=\"../media/loops.png\" style=\"width: 400px;\">"
   ]
  },
  {
   "cell_type": "code",
   "execution_count": 84,
   "metadata": {},
   "outputs": [
    {
     "name": "stdout",
     "output_type": "stream",
     "text": [
      "berlin\n",
      "moscow\n",
      "rio\n",
      "denver\n",
      "tokyo\n",
      "naomi\n"
     ]
    }
   ],
   "source": [
    "# for loop syntax using in operator\n",
    "\n",
    "robbers_we_know = ['berlin', 'moscow', 'rio', 'denver', 'tokyo', 'naomi']\n",
    "\n",
    "for robber in robbers_we_know:\n",
    "    print(robber)\n",
    "    "
   ]
  },
  {
   "cell_type": "code",
   "execution_count": null,
   "metadata": {},
   "outputs": [],
   "source": [
    "# TODO \n",
    "Timeit"
   ]
  },
  {
   "cell_type": "markdown",
   "metadata": {},
   "source": [
    "<a name='range function'></a>range() function\n",
    "---\n"
   ]
  },
  {
   "cell_type": "code",
   "execution_count": 85,
   "metadata": {},
   "outputs": [
    {
     "name": "stdout",
     "output_type": "stream",
     "text": [
      "berlin\n",
      "moscow\n",
      "rio\n",
      "denver\n",
      "tokyo\n",
      "naomi\n"
     ]
    }
   ],
   "source": [
    "for i in range(len(robbers_we_know)):\n",
    "    print(robbers_we_know[i])"
   ]
  },
  {
   "cell_type": "code",
   "execution_count": 81,
   "metadata": {},
   "outputs": [
    {
     "name": "stdout",
     "output_type": "stream",
     "text": [
      "range(0, 10)\n",
      "[0, 1, 2, 3, 4, 5, 6, 7, 8, 9]\n",
      "[2, 3, 4, 5, 6, 7]\n",
      "[2, 5, 8, 11, 14, 17]\n"
     ]
    }
   ],
   "source": [
    "# using range function\n",
    "\n",
    "print(range(10))\n",
    "\n",
    "print(list(range(10)))\n",
    "\n",
    "print(list(range(2, 8)))\n",
    "\n",
    "print(list(range(2, 20, 3)))"
   ]
  },
  {
   "cell_type": "markdown",
   "metadata": {},
   "source": [
    "### How to use for else"
   ]
  },
  {
   "cell_type": "code",
   "execution_count": 88,
   "metadata": {},
   "outputs": [
    {
     "name": "stdout",
     "output_type": "stream",
     "text": [
      "do something\n",
      "do something\n",
      "do something\n",
      "do something\n",
      "do something\n",
      "do something\n",
      "Professor is arrested\n"
     ]
    }
   ],
   "source": [
    "# using for else syntax\n",
    "\n",
    "robbers_we_know = ['berlin', 'moscow', 'rio', 'denver', 'tokyo', 'naomi']\n",
    "\n",
    "for robber in robbers_we_know:\n",
    "    if robber == 'professor':\n",
    "        break\n",
    "    else:\n",
    "        print('do something')\n",
    "else:\n",
    "    print(\"Professor is arrested\")"
   ]
  },
  {
   "cell_type": "code",
   "execution_count": 91,
   "metadata": {},
   "outputs": [
    {
     "name": "stdout",
     "output_type": "stream",
     "text": [
      "moscow\n",
      "rio\n",
      "denver\n",
      "tokyo\n",
      "naomi\n",
      "loop completed, do something now\n"
     ]
    }
   ],
   "source": [
    "# another example and pass statement\n",
    "\n",
    "robbers_we_know = ['berlin', 'moscow', 'rio', 'denver', 'tokyo', 'naomi']\n",
    "\n",
    "for robber in robbers_we_know:\n",
    "    if robber == \"berlin\":\n",
    "        pass\n",
    "    else:\n",
    "        print(robber)\n",
    "else:\n",
    "    print(\"loop completed, do something now\")\n"
   ]
  },
  {
   "attachments": {},
   "cell_type": "markdown",
   "metadata": {},
   "source": [
    "### Use of break statement\n",
    "\n",
    "<img src=\"../media/break.png\" style=\"width: 400px;\">"
   ]
  },
  {
   "cell_type": "code",
   "execution_count": 92,
   "metadata": {},
   "outputs": [
    {
     "name": "stdout",
     "output_type": "stream",
     "text": [
      "Robber catched with name berlin\n",
      "Robber catched with name moscow\n",
      "Robber catched with name rio\n",
      "3 robbers catched, that's enough for today\n"
     ]
    }
   ],
   "source": [
    "# break statement\n",
    "count = 0\n",
    "robbers_we_know = ['berlin', 'moscow', 'rio', 'denver', 'tokyo', 'naomi']\n",
    "\n",
    "for robber in robbers_we_know:\n",
    "    print(\"Robber catched with name\", robber)\n",
    "    count += 1\n",
    "    if count == 3:\n",
    "        print(\"3 robbers catched, that's enough for today\")\n",
    "        break\n",
    "        "
   ]
  },
  {
   "attachments": {},
   "cell_type": "markdown",
   "metadata": {},
   "source": [
    "### Use of Continue statement\n",
    "\n",
    "<img src=\"../media/continue.png\" style=\"width: 400px;\">"
   ]
  },
  {
   "cell_type": "code",
   "execution_count": 98,
   "metadata": {},
   "outputs": [
    {
     "name": "stdout",
     "output_type": "stream",
     "text": [
      "Professor we got you!\n"
     ]
    }
   ],
   "source": [
    "# continue statement\n",
    "robbers_we_know = ['berlin', 'moscow', 'rio', 'denver', 'tokyo', 'naomi', 'professor']\n",
    "\n",
    "for robber in robbers_we_know:\n",
    "    if robber != 'professor':\n",
    "        pass\n",
    "    print('Professor we got you!')\n",
    "        "
   ]
  },
  {
   "cell_type": "markdown",
   "metadata": {},
   "source": [
    "### While Loops"
   ]
  },
  {
   "cell_type": "markdown",
   "metadata": {},
   "source": [
    "A while loop tests an initial condition. If that condition is true, the loop starts executing. Every time the loop finishes, the condition is reevaluated. As long as the condition remains true, the loop keeps executing. As soon as the condition becomes false, the loop stops executing."
   ]
  },
  {
   "cell_type": "code",
   "execution_count": null,
   "metadata": {},
   "outputs": [],
   "source": [
    "# Set an initial condition.\n",
    "game_active = True\n",
    "\n",
    "# Set up the while loop.\n",
    "while game_active:\n",
    "    # Run the game.\n",
    "    # At some point, the game ends and game_active will be set to False.\n",
    "    #   When that happens, the loop will stop executing.\n",
    "    \n",
    "# Do anything else you want done after the loop runs."
   ]
  },
  {
   "cell_type": "markdown",
   "metadata": {},
   "source": [
    "- Every while loop needs an initial condition that starts out true.\n",
    "- The while statement includes a condition to test.\n",
    "- All of the code in the loop will run as long as the condition remains true.\n",
    "- As soon as something in the loop changes the condition such that the test no longer passes, the loop stops executing.\n",
    "- Any code that is defined after the loop will run at this point."
   ]
  },
  {
   "cell_type": "code",
   "execution_count": 1,
   "metadata": {},
   "outputs": [
    {
     "name": "stdout",
     "output_type": "stream",
     "text": [
      "berlin\n",
      "moscow\n",
      "rio\n",
      "denver\n",
      "tokyo\n",
      "naomi\n",
      "loop execution finished, do something if you want!\n"
     ]
    }
   ],
   "source": [
    "robbers_we_know = ['berlin', 'moscow', 'rio', 'denver', 'tokyo', 'naomi']\n",
    "\n",
    "i = 0\n",
    "\n",
    "while (i<len(robbers_we_know)):\n",
    "    print(robbers_we_know[i])\n",
    "    i += 1\n",
    "else:\n",
    "    print(\"loop execution finished, do something if you want!\")"
   ]
  },
  {
   "cell_type": "markdown",
   "metadata": {},
   "source": [
    "### List comprehension\n",
    "Python makes it very easy to generate a list in one line of code using concept called list comprehension.\n",
    "\n",
    "Let's write a program to generate a list of numbers which are divisible by 5.\n",
    "General way of doing this is as follows"
   ]
  },
  {
   "cell_type": "code",
   "execution_count": 2,
   "metadata": {},
   "outputs": [
    {
     "name": "stdout",
     "output_type": "stream",
     "text": [
      "The Zen of Python, by Tim Peters\n",
      "\n",
      "Beautiful is better than ugly.\n",
      "Explicit is better than implicit.\n",
      "Simple is better than complex.\n",
      "Complex is better than complicated.\n",
      "Flat is better than nested.\n",
      "Sparse is better than dense.\n",
      "Readability counts.\n",
      "Special cases aren't special enough to break the rules.\n",
      "Although practicality beats purity.\n",
      "Errors should never pass silently.\n",
      "Unless explicitly silenced.\n",
      "In the face of ambiguity, refuse the temptation to guess.\n",
      "There should be one-- and preferably only one --obvious way to do it.\n",
      "Although that way may not be obvious at first unless you're Dutch.\n",
      "Now is better than never.\n",
      "Although never is often better than *right* now.\n",
      "If the implementation is hard to explain, it's a bad idea.\n",
      "If the implementation is easy to explain, it may be a good idea.\n",
      "Namespaces are one honking great idea -- let's do more of those!\n"
     ]
    }
   ],
   "source": [
    "import this"
   ]
  },
  {
   "cell_type": "code",
   "execution_count": 27,
   "metadata": {},
   "outputs": [
    {
     "name": "stdout",
     "output_type": "stream",
     "text": [
      "[1, 4, 9, 16, 25, 36, 49, 64, 81]\n"
     ]
    }
   ],
   "source": [
    "# Get square of each number using for loop\n",
    "nums = [0,1,2,3,4,5,6,7,8,9]\n",
    "result = []\n",
    "for num in nums:\n",
    "    if num:\n",
    "        result.append(num**2)\n",
    "print(result)"
   ]
  },
  {
   "cell_type": "code",
   "execution_count": 12,
   "metadata": {},
   "outputs": [
    {
     "name": "stdout",
     "output_type": "stream",
     "text": [
      "[0, 1, 2, 3, 4, 5, 6, 7, 8, 9]\n"
     ]
    }
   ],
   "source": [
    "res = [i if i else 0 for i in nums]\n",
    "print(res)"
   ]
  },
  {
   "cell_type": "code",
   "execution_count": 4,
   "metadata": {},
   "outputs": [
    {
     "name": "stdout",
     "output_type": "stream",
     "text": [
      "[1, 4, 9, 16, 25, 36, 49, 64, 81]\n"
     ]
    }
   ],
   "source": [
    "# Do the same thing using a list comprehension\n",
    "nums = [0,1,2,3,4,5,6,7,8,9]\n",
    "\n",
    "result = [i**2 for i in nums if i]\n",
    "\n",
    "print(result)"
   ]
  },
  {
   "cell_type": "markdown",
   "metadata": {},
   "source": [
    "Introducing Functions\n",
    "==="
   ]
  },
  {
   "cell_type": "markdown",
   "metadata": {},
   "source": [
    "One of the core principles of any programming language is, \"Don't Repeat Yourself\". If you have an action that should occur many times, you can define that action once and then call that code whenever you need to carry out that action.\n",
    "\n",
    "We are already repeating ourselves in our code, so this is a good time to introduce simple functions. Functions mean less work for us as programmers, and effective use of functions results in code that is less error-prone."
   ]
  },
  {
   "cell_type": "markdown",
   "metadata": {},
   "source": [
    "<a name='what'></a>What are functions?\n",
    "===\n",
    "Functions are a set of actions that we group together, and give a name to. You have already used a number of functions from the core Python language, such as *string.title()* and *list.sort()*. We can define our own functions, which allows us to \"teach\" Python new behavior."
   ]
  },
  {
   "cell_type": "markdown",
   "metadata": {},
   "source": [
    "<a name='general_syntax'></a>General Syntax\n",
    "---\n",
    "A general function looks something like this:"
   ]
  },
  {
   "cell_type": "code",
   "execution_count": 13,
   "metadata": {},
   "outputs": [
    {
     "ename": "IndentationError",
     "evalue": "expected an indented block (<ipython-input-13-a33ee95a3fdd>, line 7)",
     "output_type": "error",
     "traceback": [
      "\u001b[1;36m  File \u001b[1;32m\"<ipython-input-13-a33ee95a3fdd>\"\u001b[1;36m, line \u001b[1;32m7\u001b[0m\n\u001b[1;33m    function_name(value_1, value_2)\u001b[0m\n\u001b[1;37m                ^\u001b[0m\n\u001b[1;31mIndentationError\u001b[0m\u001b[1;31m:\u001b[0m expected an indented block\n"
     ]
    }
   ],
   "source": [
    "# Let's define a function.\n",
    "def function_name(argument_1, argument_2):\n",
    "    # Do whatever we want this function to do,\n",
    "    #  using argument_1 and argument_2\n",
    "    \n",
    "# Use function_name to call the function.\n",
    "function_name(value_1, value_2)"
   ]
  },
  {
   "cell_type": "code",
   "execution_count": 14,
   "metadata": {},
   "outputs": [
    {
     "name": "stdout",
     "output_type": "stream",
     "text": [
      "Our robbers are currently in alphabetical order.\n",
      "Berlin\n",
      "Denvor\n",
      "Monica\n",
      "Rio\n",
      "\n",
      "Our robbers are now in reverse alphabetical order.\n",
      "Rio\n",
      "Monica\n",
      "Denvor\n",
      "Berlin\n"
     ]
    }
   ],
   "source": [
    "# something without a function\n",
    "\n",
    "robbers = ['denvor', 'monica', 'rio', 'berlin']\n",
    "\n",
    "# Put students in alphabetical order.\n",
    "robbers.sort()\n",
    "\n",
    "# Display the list in its current order.\n",
    "print(\"Our robbers are currently in alphabetical order.\")\n",
    "for robber in robbers:\n",
    "    print(robber.title())\n",
    "\n",
    "# Put robbers in reverse alphabetical order.\n",
    "robbers.sort(reverse=True)\n",
    "\n",
    "# Display the list in its current order.\n",
    "print(\"\\nOur robbers are now in reverse alphabetical order.\")\n",
    "for robber in robbers:\n",
    "    print(robber.title())"
   ]
  },
  {
   "cell_type": "code",
   "execution_count": 20,
   "metadata": {},
   "outputs": [
    {
     "name": "stdout",
     "output_type": "stream",
     "text": [
      "Our robbers are currently in alphabetical order.\n",
      "Berlin\n",
      "Denvor\n",
      "Monica\n",
      "Rio\n",
      "\n",
      "Our robbers are currently in reverse alphabetical order.\n",
      "Rio\n",
      "Monica\n",
      "Denvor\n",
      "Berlin\n"
     ]
    }
   ],
   "source": [
    "# now with a function\n",
    "\n",
    "def print_robbers(robbers, message):\n",
    "    print(message)\n",
    "    for robber in robbers:\n",
    "        print(robber.title())\n",
    "        \n",
    "\n",
    "robbers = ['denvor', 'monica', 'rio', 'berlin']\n",
    "\n",
    "# Put robbers in alphabetical order.\n",
    "message = \"Our robbers are currently in alphabetical order.\"\n",
    "robbers.sort()\n",
    "print_robbers(robbers, message)\n",
    "\n",
    "# Put robbers in reverse alphabetical order.\n",
    "message = \"\\nOur robbers are currently in reverse alphabetical order.\"\n",
    "robbers.sort(reverse=True)\n",
    "print_robbers(robbers, message)\n",
    "\n"
   ]
  },
  {
   "cell_type": "markdown",
   "metadata": {},
   "source": [
    "<a name='return_value'></a>Returning a Value\n",
    "---\n",
    "Each function you create can return a value. This can be in addition to the primary work the function does, or it can be the function's main job. The following function takes in a number, and returns the corresponding word for that number:"
   ]
  },
  {
   "cell_type": "code",
   "execution_count": 22,
   "metadata": {},
   "outputs": [
    {
     "name": "stdout",
     "output_type": "stream",
     "text": [
      "1 ('one', 'one', 'one')\n",
      "2 two\n",
      "3 three\n",
      "4 This is an unknown number\n",
      "5 This is an unknown number\n",
      "6 This is an unknown number\n",
      "7 This is an unknown number\n",
      "8 This is an unknown number\n",
      "9 This is an unknown number\n"
     ]
    }
   ],
   "source": [
    "def get_number_word(number):\n",
    "    # Takes in a numerical value, and returns\n",
    "    #  the word corresponding to that number.\n",
    "    if number == 1:\n",
    "        return 'one', 'one', 'one'\n",
    "    elif number == 2:\n",
    "        return 'two'\n",
    "    elif number == 3:\n",
    "        return 'three'\n",
    "    else:\n",
    "        return \"This is an unknown number\"\n",
    "    \n",
    "# Let's try out our function.\n",
    "for current_number in range(1,10):\n",
    "    number_word = get_number_word(current_number)\n",
    "    print(current_number, number_word)"
   ]
  },
  {
   "cell_type": "code",
   "execution_count": null,
   "metadata": {},
   "outputs": [],
   "source": []
  }
 ],
 "metadata": {
  "kernelspec": {
   "display_name": "Python 3",
   "language": "python",
   "name": "python3"
  },
  "language_info": {
   "codemirror_mode": {
    "name": "ipython",
    "version": 3
   },
   "file_extension": ".py",
   "mimetype": "text/x-python",
   "name": "python",
   "nbconvert_exporter": "python",
   "pygments_lexer": "ipython3",
   "version": "3.7.5"
  }
 },
 "nbformat": 4,
 "nbformat_minor": 1
}
