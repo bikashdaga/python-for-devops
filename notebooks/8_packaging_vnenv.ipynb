{
 "cells": [
  {
   "cell_type": "markdown",
   "metadata": {},
   "source": [
    "# Pypi & Pip\n",
    "\n",
    "PyPi is short form for Python Package Index (PyPI). PyPI helps you find and install open source software developed and shared by the Python community. All the python packages are distributed to python community through pypi.org . These packages are called as Distributed or intallable packages. To install any distributed or installable package we use command called Pip.\n",
    "\n"
   ]
  },
  {
   "cell_type": "code",
   "execution_count": null,
   "metadata": {},
   "outputs": [],
   "source": [
    "pip install <package-name>\n",
    "\n",
    "pip install requests"
   ]
  },
  {
   "cell_type": "markdown",
   "metadata": {},
   "source": [
    "you can also specify which version of python package to install in the command."
   ]
  },
  {
   "cell_type": "code",
   "execution_count": null,
   "metadata": {},
   "outputs": [],
   "source": [
    "pip install <package-name>==<version>\n",
    "\n",
    "pip install requests==2.1.0"
   ]
  },
  {
   "cell_type": "markdown",
   "metadata": {},
   "source": [
    "# How does pip install work?\n",
    "\n",
    "Every package/distribution that is being installed will have a setup.py. When you call pip install <package-name> that is nothing but python setup.py build and python setup.py install\n",
    "    \n",
    "What happens in this flow, with python setup.py build, it will download all the code of package to build folder installing any dependant packages, after that it will build a binary wheel specifically for your machine out of the source. Then it needs to determine which library directory to install the package in—the system's, the user's, or a virtualenv's? This is controlled by sys.prefix, which in turn is controlled by pip's executable path and the PYTHONPATH and PYTHONHOME environment variables. Finally, it moves the wheel files into the appropriate library directory, and compiles the python source files into bytecode for faster execution.\n",
    "\n"
   ]
  },
  {
   "cell_type": "code",
   "execution_count": null,
   "metadata": {},
   "outputs": [],
   "source": [
    "# sample setup.py\n",
    "\n",
    "import os\n",
    "from setuptools import setup, find_packages\n",
    "\n",
    "setup(\n",
    "    name='<package_name>',\n",
    "    version='0.3.1',\n",
    "    packages=find_packages(exclude=['tests', 'tests.*']),\n",
    "    include_package_data=True,\n",
    "    description='A brief description of your package',\n",
    "    long_description=README,\n",
    "    url='<your package github repo url>',\n",
    "    author='<author name>',\n",
    "    author_email='<Author email>',\n",
    "    classifiers=[\n",
    "        'Environment :: Web Environment',\n",
    "        'Intended Audience :: Developers',\n",
    "        'Operating System :: OS Independent',\n",
    "        'License :: OSI Approved :: MIT License',\n",
    "        'Programming Language :: Python',\n",
    "        'Programming Language :: Python :: 2.7',\n",
    "        'Programming Language :: Python :: 3',\n",
    "        'Programming Language :: Python :: 3.2',\n",
    "        'Programming Language :: Python :: 3.3',\n",
    "    ],\n",
    "    install_requires=[\n",
    "        <list of any other packages that needs to be installed.>\n",
    "    ],\n",
    ")"
   ]
  },
  {
   "cell_type": "markdown",
   "metadata": {},
   "source": [
    "# Virtualenv\n",
    "\n",
    "A Virtual Environment is an isolated working copy of Python which allows you to work on a specific project without worry of affecting other projects. It enables multiple side-by-side installations of Python, one for each project. Following are the commands to install virtualenv."
   ]
  },
  {
   "cell_type": "markdown",
   "metadata": {},
   "source": [
    "On macOS and Linux:"
   ]
  },
  {
   "cell_type": "code",
   "execution_count": null,
   "metadata": {},
   "outputs": [],
   "source": [
    "python3 -m pip install --user virtualenv"
   ]
  },
  {
   "cell_type": "markdown",
   "metadata": {},
   "source": [
    "On Windows:"
   ]
  },
  {
   "cell_type": "code",
   "execution_count": null,
   "metadata": {},
   "outputs": [],
   "source": [
    "py -m pip install --user virtualenv"
   ]
  },
  {
   "cell_type": "markdown",
   "metadata": {},
   "source": [
    "We create vitrualenv using the following commands"
   ]
  },
  {
   "cell_type": "markdown",
   "metadata": {},
   "source": [
    "On macOS and Linux:"
   ]
  },
  {
   "cell_type": "code",
   "execution_count": null,
   "metadata": {},
   "outputs": [],
   "source": [
    "python3 -m venv env"
   ]
  },
  {
   "cell_type": "markdown",
   "metadata": {},
   "source": [
    "On Windows:"
   ]
  },
  {
   "cell_type": "code",
   "execution_count": null,
   "metadata": {},
   "outputs": [],
   "source": [
    "py -m venv env"
   ]
  },
  {
   "cell_type": "markdown",
   "metadata": {},
   "source": [
    "Before you can start installing or using packages in your virtual environment you’ll need to activate it. To activate the environment use the following commands\n",
    "\n",
    "On macOS and Linux:"
   ]
  },
  {
   "cell_type": "code",
   "execution_count": null,
   "metadata": {},
   "outputs": [],
   "source": [
    "source env/bin/activate"
   ]
  },
  {
   "cell_type": "markdown",
   "metadata": {},
   "source": [
    "On Windows:"
   ]
  },
  {
   "cell_type": "code",
   "execution_count": null,
   "metadata": {},
   "outputs": [],
   "source": [
    ".\\env\\Scripts\\activate"
   ]
  },
  {
   "cell_type": "markdown",
   "metadata": {},
   "source": [
    "Following are some important commands when we use virtualenv\n",
    "\n",
    "> pip freeze\n",
    " shows packages YOU installed via pip in that environment\n",
    "> pip freeze > requirements.txt\n",
    "  used to write the installed packages into the file.\n",
    "> pip install -r requrements.txt\n",
    "  Used to install all the packages inside requirements"
   ]
  },
  {
   "cell_type": "markdown",
   "metadata": {},
   "source": [
    "# Create your own package\n",
    "\n",
    "We will see how to publish a simple helloworld as a pypi package. I'm creating a simple package with hellow as a folder and to make it a package I'm adding __init__.py to it.\n",
    "\n",
    "Inside that folder I'm creating a simple file called greeting and inside my greeting file, I'm adding a simple function called hello_world that prints hello_world\n"
   ]
  },
  {
   "cell_type": "code",
   "execution_count": null,
   "metadata": {},
   "outputs": [],
   "source": [
    "helloworld/\n",
    "├── hellow\n",
    "   ├── __init__.py\n",
    "   └── greeting.py\n",
    "\n",
    "\n",
    "1 directory, 2 files"
   ]
  },
  {
   "cell_type": "code",
   "execution_count": null,
   "metadata": {},
   "outputs": [],
   "source": [
    "# in greeting.py\n",
    "\n",
    "def hello_world():\n",
    "    print (\"hello world\")\n"
   ]
  },
  {
   "cell_type": "markdown",
   "metadata": {},
   "source": [
    "As discussed earlier we need setup.py file to make a python package into a distributed package. So I'm creating a setup.py file parallet to hellow folder. In my setup.py I'll add corresponding information required for that package."
   ]
  },
  {
   "cell_type": "code",
   "execution_count": null,
   "metadata": {},
   "outputs": [],
   "source": [
    "├── hellow\n",
    "│   ├── __init__.py\n",
    "│   └── greeting.py\n",
    "└── setup.py\n",
    "\n",
    "1 directory, 3 files\n"
   ]
  },
  {
   "cell_type": "code",
   "execution_count": null,
   "metadata": {},
   "outputs": [],
   "source": [
    "# in setup.py\n",
    "\n",
    "import os\n",
    "from setuptools import setup, find_packages\n",
    "\n",
    "setup(\n",
    "    name='chaitu_210_hw_greeting',\n",
    "    version='1.0',\n",
    "    packages=['hellow'],\n",
    "    include_package_data=True,\n",
    "    description='A brief description of your package',\n",
    "    long_description='',\n",
    "    url='https://www.test.com/',\n",
    "    author='chaitanya',\n",
    "    author_email='chaitu210@gmail.com',\n",
    "    classifiers=[\n",
    "        'Environment :: Web Environment',\n",
    "        'Intended Audience :: Developers',\n",
    "        'Operating System :: OS Independent',\n",
    "        'License :: OSI Approved :: MIT License',\n",
    "        'Programming Language :: Python',\n",
    "        'Programming Language :: Python :: 2.7',\n",
    "        'Programming Language :: Python :: 3',\n",
    "        'Programming Language :: Python :: 3.2',\n",
    "        'Programming Language :: Python :: 3.3',\n",
    "    ],\n",
    "    install_requires=[\n",
    "    ],\n",
    ")\n",
    "\n"
   ]
  },
  {
   "cell_type": "markdown",
   "metadata": {},
   "source": [
    "Before make our python package as a distributed package, we will create an account in pypi.org, you can create an using the following link \n",
    "\n",
    "https://pypi.org/account/register/"
   ]
  },
  {
   "cell_type": "markdown",
   "metadata": {},
   "source": [
    "Now to upload our package we run the following commands"
   ]
  },
  {
   "cell_type": "code",
   "execution_count": null,
   "metadata": {},
   "outputs": [],
   "source": [
    "> python setup.py bdist_wheel sdist\n",
    "> pip install twine\n",
    "> twine upload dist/*"
   ]
  },
  {
   "cell_type": "markdown",
   "metadata": {},
   "source": [
    "On running the last command it will ask for your pypi username and password. On successful upload we are now ready to use the package in any other project or any python developer can install the package using \n",
    "\n",
    "pip install chaitu_210_hw_greeting"
   ]
  },
  {
   "cell_type": "markdown",
   "metadata": {},
   "source": [
    "There are more options that we can research while create a package for Eg: Manifest.in, docs, README.md etc.\n",
    "\n",
    "Manifest.in : Used for adding the non python files like htmls\n",
    "Docs: If your package has more documentation you will use this.\n",
    "README.md: This is used to give detailed description/usage about your package."
   ]
  }
 ],
 "metadata": {
  "kernelspec": {
   "display_name": "Python 3",
   "language": "python",
   "name": "python3"
  },
  "language_info": {
   "codemirror_mode": {
    "name": "ipython",
    "version": 3
   },
   "file_extension": ".py",
   "mimetype": "text/x-python",
   "name": "python",
   "nbconvert_exporter": "python",
   "pygments_lexer": "ipython3",
   "version": "3.7.5"
  }
 },
 "nbformat": 4,
 "nbformat_minor": 4
}
